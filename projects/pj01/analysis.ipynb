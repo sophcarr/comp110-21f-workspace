{
 "cells": [
  {
   "cell_type": "markdown",
   "metadata": {},
   "source": [
    "# Hypothesis: I think that the first 50 people to respond to the COMP 110 survey started the class with none to less than one month of programming experience.  "
   ]
  },
  {
   "cell_type": "markdown",
   "metadata": {},
   "source": [
    "## Before I start any actual coding, I will enable autoreload"
   ]
  },
  {
   "cell_type": "code",
   "execution_count": 143,
   "metadata": {},
   "outputs": [],
   "source": [
    "%reload_ext autoreload\n",
    "%autoreload 2"
   ]
  },
  {
   "cell_type": "markdown",
   "metadata": {},
   "source": [
    "## First, I will read the csv and convert it to a column-oriented data table. "
   ]
  },
  {
   "cell_type": "code",
   "execution_count": 144,
   "metadata": {},
   "outputs": [],
   "source": [
    "from data_utils import read_csv_rows, columnar\n",
    "\n",
    "data_rows: list[dict[str, str]] = read_csv_rows('../../data/survey.csv')\n",
    "columns: dict[str, list[str]] = columnar(data_rows)\n"
   ]
  },
  {
   "cell_type": "markdown",
   "metadata": {},
   "source": [
    "## Now, I will take away all of the data that isn't the first 50 respondants and store it into a new dictionary."
   ]
  },
  {
   "cell_type": "code",
   "execution_count": 145,
   "metadata": {},
   "outputs": [],
   "source": [
    "\n",
    "from data_utils import helper\n",
    "new_columns: dict[str, list[str]] = helper(columns, 50)\n"
   ]
  },
  {
   "cell_type": "markdown",
   "metadata": {},
   "source": [
    "## Now, I will select the row that asks students how much programming experience they have (for both the full list and the list with only 50 participants)."
   ]
  },
  {
   "cell_type": "code",
   "execution_count": 146,
   "metadata": {},
   "outputs": [],
   "source": [
    "from data_utils import head, select\n",
    "subset: dict[str, list[str]] = select(columns, [\"prior_time\"])\n",
    "new_subset: dict[str, list[str]] = select(new_columns, [\"prior_time\"])"
   ]
  },
  {
   "cell_type": "markdown",
   "metadata": {},
   "source": [
    "## The possible answers to this question was: None to less than one month, 1 month or so, 2-6 months, 7-12 months, 1-2 years, > 2 years. I will now count up the totals number of responses for each, and filter out the empty data."
   ]
  },
  {
   "cell_type": "code",
   "execution_count": 147,
   "metadata": {},
   "outputs": [
    {
     "name": "stdout",
     "output_type": "stream",
     "text": [
      "For the total responses only!\n",
      "None to less than one month total: 81 \n",
      "1 month or so total: 43 \n",
      "2-6 months total: 30 \n",
      "7-12 months total: 9 \n",
      "1-2 years total: 4 \n",
      "> 2 years total: 3 \n",
      "{'None to less than one month!': 81, '1 month or so': 43, '7-12 months': 9, '1-2 years': 4, '2-6 months': 30, '> 2 years': 3}\n"
     ]
    }
   ],
   "source": [
    "from data_utils import count\n",
    "counts = count(subset['prior_time'])\n",
    "counts.pop(\"\")\n",
    "\n",
    "print(\"For the total responses only!\")\n",
    "print(f\"None to less than one month total: {counts['None to less than one month!']} \")\n",
    "print(f\"1 month or so total: {counts['1 month or so']} \")\n",
    "print(f\"2-6 months total: {counts['2-6 months']} \")\n",
    "print(f\"7-12 months total: {counts['7-12 months']} \")\n",
    "print(f\"1-2 years total: {counts['1-2 years']} \")\n",
    "print(f\"> 2 years total: {counts['> 2 years']} \")\n",
    "print(counts)"
   ]
  },
  {
   "cell_type": "markdown",
   "metadata": {},
   "source": [
    "## I will do the same for the first fifty responses only."
   ]
  },
  {
   "cell_type": "code",
   "execution_count": 148,
   "metadata": {},
   "outputs": [
    {
     "name": "stdout",
     "output_type": "stream",
     "text": [
      "For the first fifty responses only!\n",
      "None to less than one month total: 4 \n",
      "1 month or so total: 3 \n",
      "2-6 months total: 0\n",
      "7-12 months total: 1 \n",
      "1-2 years total: 0\n",
      "> 2 years total: 0\n",
      "{'None to less than one month!': 4, '1 month or so': 3, '7-12 months': 1}\n"
     ]
    }
   ],
   "source": [
    "from data_utils import count\n",
    "new_counts = count(new_subset[\"prior_time\"])\n",
    "new_counts.pop(\"\")\n",
    "\n",
    "print(\"For the first fifty responses only!\")\n",
    "print(f\"None to less than one month total: {new_counts['None to less than one month!']} \")\n",
    "print(f\"1 month or so total: {new_counts['1 month or so']} \")\n",
    "print(f\"2-6 months total: 0\")\n",
    "print(f\"7-12 months total: {new_counts['7-12 months']} \")\n",
    "print(f\"1-2 years total: 0\")\n",
    "print(f\"> 2 years total: 0\")\n",
    "print(new_counts)"
   ]
  },
  {
   "cell_type": "markdown",
   "metadata": {},
   "source": [
    "## Here is a visual showing the distribution of this data for the total responses vs. the first fifty."
   ]
  },
  {
   "cell_type": "code",
   "execution_count": 152,
   "metadata": {},
   "outputs": [
    {
     "data": {
      "image/png": "[encoded data removed]",
      "text/plain": [
       "<Figure size 864x360 with 2 Axes>"
      ]
     },
     "metadata": {
      "needs_background": "light"
     },
     "output_type": "display_data"
    }
   ],
   "source": [
    "from matplotlib import pyplot as plt\n",
    "\n",
    "fig, axes = plt.subplots(1, 2, figsize=(12, 5), sharey=True)\n",
    "fig.suptitle(\"Distribution of prior programming experience in COMP 110.\")\n",
    "\n",
    "\n",
    "axes[0].set_title(\"All Repondents\")\n",
    "axes[0].bar(counts.keys(), counts.values())\n",
    "axes[0].tick_params(axis='x', labelrotation = 45)\n",
    "\n",
    "axes[1].set_title(\"The First 50 Responses\")\n",
    "axes[1].bar(new_counts.keys(), new_counts.values())\n",
    "axes[0].tick_params(axis='x', labelrotation = 45)"
   ]
  },
  {
   "cell_type": "markdown",
   "metadata": {},
   "source": [
    "## Conclusion\n",
    "\n",
    "### In conclusion, most of the first 50 responders had none to less than one month of prior programming experience. This means that my hypothesis was true. \n",
    "\n",
    "### This makes sense, because COMP 110 teaches you about python from the bottom up, and if you already have some formal training, you could probably place out of it. Also, this class is a major requirement for mnay majors unrelated to programming.\n",
    "\n",
    "### This effect is more extreme when looking at the data table for the total reponses. This makes sense because the more responses you have, the more you'll average out to the population mean. So this supports the fact that most students in COMP 110 had none to less than one month of prior pogramming experience, which was half of my hypothesis. \n",
    "\n",
    "### This could also hint at the fact that the students who are prepared/ready to work faster earlier in the semester (those who completed the survey first) are more likely to have prior COMP experience. This is just a weak correlation though, and does not mean anything in the context of this anlysis. It is just me throwing ideas around.  "
   ]
  }
 ],
 "metadata": {
  "interpreter": {
   "hash": "949777d72b0d2535278d3dc13498b2535136f6dfe0678499012e853ee9abcab1"
  },
  "kernelspec": {
   "display_name": "Python 3.9.6 64-bit",
   "name": "python3"
  },
  "language_info": {
   "codemirror_mode": {
    "name": "ipython",
    "version": 3
   },
   "file_extension": ".py",
   "mimetype": "text/x-python",
   "name": "python",
   "nbconvert_exporter": "python",
   "pygments_lexer": "ipython3",
   "version": "3.9.6"
  },
  "orig_nbformat": 4
 },
 "nbformat": 4,
 "nbformat_minor": 2
}
